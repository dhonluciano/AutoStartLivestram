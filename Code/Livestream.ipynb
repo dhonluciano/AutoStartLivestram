{
 "cells": [
  {
   "cell_type": "markdown",
   "metadata": {},
   "source": [
    "Youtube"
   ]
  },
  {
   "cell_type": "code",
   "execution_count": null,
   "metadata": {},
   "outputs": [],
   "source": [
    "##USAR APENAS NA PRIMEIRA UTILIZAÇÃO E UM DE CADA VEZ.\n",
    "#pip install pyperclip\n",
    "#pip install pyautogui"
   ]
  },
  {
   "cell_type": "code",
   "execution_count": 9,
   "metadata": {},
   "outputs": [],
   "source": [
    "import pyautogui as pa\n",
    "import pyperclip as pc\n",
    "import time\n",
    "\n",
    "#MENSAGEM DE AVISO\n",
    "from tkinter import messagebox\n",
    "\n",
    "messagebox.showinfo ('Este script iniciará a live [colocar o dia]', \\\n",
    "      'Caso queira cancelar clique em \"OK\" e aperte \"CTRL\" + \"C\". Para proceder apenas tecle \"ENTER\" e aguarde 5 segundos')\n",
    "\n",
    "time.sleep (5)\n",
    "\n",
    "#BLOCO DE NOTAS SERA ABERTO PARA DAR AVISOS\n",
    "pa.PAUSE = 1\n",
    "pa.press (\"win\")\n",
    "time.sleep (2)\n",
    "pa.write (\"notas\") \n",
    "time.sleep (1)\n",
    "pa.press (\"enter\")  #ABRINDO BLOCO DE NOTAS\n",
    "time.sleep (2)\n",
    "pa.write (\"Por favor verifique se todos os usb's de camera e audio estao ligados\", interval=0.03) #AVISO\n",
    "pa.press (\"enter\")\n",
    "pa.write (\"inicializando em...\", interval=0.03)\n",
    "pa.press (\"enter\")\n",
    "pa.write (\"3\\n2\\n1\", interval=0.5)\n",
    "pa.press (\"enter\")\n",
    "pa.write (\"starting\", interval=0.03)\n",
    "time.sleep (2)\n",
    "pa.hotkey (\"ctrl\", \"w\") #ATALHO PARA FECHAR O BLOCO DE NOTAS\n",
    "pa.press (\"right\")\n",
    "pa.press (\"enter\") #FECHANDO O BLOCO DE NOTAS"
   ]
  },
  {
   "cell_type": "code",
   "execution_count": 3,
   "metadata": {},
   "outputs": [],
   "source": [
    "import pyautogui as pa\n",
    "import pyperclip as pc\n",
    "import time\n",
    "\n",
    "#ABRINDO OBS STUDIO GOOGLE E O YT STUDIO\n",
    "pa.PAUSE = 1\n",
    "pa.press(\"win\")\n",
    "pa.write(\"OBS\") \n",
    "pa.press (\"enter\") #ABRINDO O OBS STUDIO\n",
    "time.sleep (10) #TEMPO PARA O OBS ABRIR\n",
    "pa.press(\"win\")\n",
    "pa.write(\"chrome\")\n",
    "pa.press (\"enter\") #ABRINDO O CHROME\n",
    "time.sleep (4)\n",
    "pc.copy (\"https://studio.youtube.com\") \n",
    "pa.hotkey (\"ctrl\", \"v\") #PA ESTA COLANDO O LINK DO YT STUDIO NA BARRA DO NAVEGADOR\n",
    "pa.press (\"enter\")\n",
    "time.sleep (7) #TEMPO PARA O NAVEGADOR ABRIR A PAGINA"
   ]
  },
  {
   "cell_type": "code",
   "execution_count": null,
   "metadata": {},
   "outputs": [],
   "source": [
    "#ENTRANDO NA TRANSMISSÃO E ALTERANDO TITULO\n",
    "pa.click (x=1783, y=269)\n",
    "time.sleep (12)\n",
    "pa.click (x=1312, y=318)\n",
    "time.sleep (3)\n",
    "pa.click (x=900, y=374, clicks=3)\n",
    "pc.copy (\"Culto de Celebração | Ao Vivo | ICB Sumaré\")\n",
    "pa.hotkey (\"ctrl\", \"v\")\n",
    "\n",
    "#ABRINDO O DRIVE\n",
    "pa.hotkey (\"ctrl\",\"t\")\n",
    "pc.copy (\"https://drive.google.com/drive/u/0/folders/1czTgqpIA6iWp_IMeukpUfvq4WOlj9K1C\")\n",
    "pa.hotkey (\"ctrl\", \"v\")\n",
    "pa.press (\"enter\")\n",
    "time.sleep (5)\n",
    "\n",
    "#BAIXANDO A MINIATURA\n",
    "pa.click (x=593, y=471)\n",
    "time.sleep (4)\n",
    "pa.click (x=662, y=582)\n",
    "time.sleep (5)\n",
    "\n",
    "#SELECIONANDO A MINIATURA NA TRANSMISSAO DO YT\n",
    "pa.click (x=161, y=5)\n",
    "pa.click (x=859, y=516)\n",
    "pa.hotkey (\"ctrl\", \"a\")\n",
    "pa.press (\"delete\")\n",
    "pa.click (x=758, y=434)\n",
    "pa.scroll (-900)\n",
    "pa.click (x=1802, y=76)\n",
    "pa.moveTo (1606, 202, 2, pa.easeInQuad)\n",
    "pa.dragTo (833, 519, 3, pa.easeInQuad)\n",
    "time.sleep (3)"
   ]
  }
 ],
 "metadata": {
  "kernelspec": {
   "display_name": "base",
   "language": "python",
   "name": "python3"
  },
  "language_info": {
   "codemirror_mode": {
    "name": "ipython",
    "version": 3
   },
   "file_extension": ".py",
   "mimetype": "text/x-python",
   "name": "python",
   "nbconvert_exporter": "python",
   "pygments_lexer": "ipython3",
   "version": "3.11.4"
  }
 },
 "nbformat": 4,
 "nbformat_minor": 2
}
